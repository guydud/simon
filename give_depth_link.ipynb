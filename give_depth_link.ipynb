{
  "nbformat": 4,
  "nbformat_minor": 0,
  "metadata": {
    "colab": {
      "provenance": [],
      "toc_visible": true,
      "include_colab_link": true
    },
    "kernelspec": {
      "name": "python3",
      "display_name": "Python 3"
    },
    "language_info": {
      "name": "python"
    }
  },
  "cells": [
    {
      "cell_type": "markdown",
      "metadata": {
        "id": "view-in-github",
        "colab_type": "text"
      },
      "source": [
        "<a href=\"https://colab.research.google.com/github/guydud/simon/blob/master/give_depth_link.ipynb\" target=\"_parent\"><img src=\"https://colab.research.google.com/assets/colab-badge.svg\" alt=\"Open In Colab\"/></a>"
      ]
    },
    {
      "cell_type": "markdown",
      "source": [
        "# Main"
      ],
      "metadata": {
        "id": "lT92_VHwRXzR"
      }
    },
    {
      "cell_type": "markdown",
      "source": [],
      "metadata": {
        "id": "rtwZdzwgQdjr"
      }
    },
    {
      "cell_type": "code",
      "source": [
        "import argparse\n",
        "\n",
        "parser = argparse.ArgumentParser(description='Crawler')\n",
        "parser.add_argument('--url', type=str, help='url to Crawler')\n",
        "parser.add_argument('--depth', type=int, help='What a depth to enter')\n",
        "\n",
        "arguments = parser.parse_args()\n",
        "\n",
        "# Accessing the value of the --url argument\n",
        "url_value = arguments.url\n",
        "depth_value = arguments.depth\n",
        "Crawler(url_value, depth_value)"
      ],
      "metadata": {
        "id": "oHikO7yLQf_W"
      },
      "execution_count": null,
      "outputs": []
    },
    {
      "cell_type": "code",
      "source": [],
      "metadata": {
        "id": "cFv4MsNvQq-P"
      },
      "execution_count": null,
      "outputs": []
    },
    {
      "cell_type": "markdown",
      "source": [
        "# func"
      ],
      "metadata": {
        "id": "ot7ON96QQ9es"
      }
    },
    {
      "cell_type": "code",
      "source": [
        "import urllib.request\n",
        "import yaml"
      ],
      "metadata": {
        "id": "_zlsJykBUzyn"
      },
      "execution_count": null,
      "outputs": []
    },
    {
      "cell_type": "code",
      "source": [
        "def give_link(link):\n",
        "    return_link_list = []\n",
        "    headers = {'User-Agent': 'Mozilla/5.0 (Windows NT 10.0; Win64; x64) AppleWebKit/537.36 (KHTML, like Gecko) Chrome/58.0.3029.110 Safari/537.3'}\n",
        "    #chat gpt told me to do so, it defineds the web agent. some webs don't like pythons defult agent\n",
        "    try: #if access denied or 404\n",
        "            req = urllib.request.Request(link, headers=headers)\n",
        "            response = urllib.request.urlopen(req)\n",
        "            text_str = response.read().decode('utf-8')\n",
        "\n",
        "#create the home link. maybe the link on the page doesnt start with \"http...\", so we can to add it for the link\n",
        "            if link[-1] != \"/\":\n",
        "                link += \"/\"\n",
        "            home_link = \"https://\"\n",
        "            for i in link[8:]: #whith out the \"https://\n",
        "                if i != \"/\": #the end of the home page\n",
        "                    home_link += i\n",
        "                else:\n",
        "                    break\n",
        "\n",
        "            for i in range(len(text_str) - 6):\n",
        "                if text_str[i:i + 6] == 'href=\"':\n",
        "                    j = i + 6\n",
        "                    now_link = \"\"\n",
        "\n",
        "#get the link\n",
        "                    while text_str[j] != '\"':\n",
        "                        now_link += text_str[j]\n",
        "                        j += 1\n",
        "#check if its a legal link\n",
        "                    if now_link[0:4] == 'http':\n",
        "                        return_link_list.append(now_link)\n",
        "                    elif now_link[0] == \"/\": #check if its even link or not\n",
        "                        return_link_list.append(home_link + now_link)\n",
        "\n",
        "            return (return_link_list)\n",
        "    except:\n",
        "        return [None]"
      ],
      "metadata": {
        "id": "XW2y5q8RRAuq"
      },
      "execution_count": null,
      "outputs": []
    },
    {
      "cell_type": "code",
      "source": [
        "def Crawler(url, depth=2):\n",
        "    links_yaml = open(\"C:/users/user/desktop/links.yaml\",\"w\")\n",
        "    def Crawler_rec(lst_url,depth_rec,d):\n",
        "        if depth_rec==0:\n",
        "            return\n",
        "        lst_give_link_url=[]\n",
        "        for url_link in lst_url:\n",
        "            lst_give_link_url+=give_link(url_link)\n",
        "        yaml.dump({\"level\":d-depth_rec+1,\"links\":lst_give_link_url}, links_yaml)\n",
        "        return Crawler_rec(lst_give_link_url,depth_rec-1,d)\n",
        "    yaml.dump({\"level\":0,\"links\":url}, links_yaml)\n",
        "    return (Crawler_rec([url],depth,depth))"
      ],
      "metadata": {
        "id": "Lit21oKERAyH"
      },
      "execution_count": null,
      "outputs": []
    },
    {
      "cell_type": "code",
      "source": [
        "url=\"https://ultimateqa.com/automation/\"\n",
        "Crawler(url,2)"
      ],
      "metadata": {
        "id": "ul4Z_4PHRA1H",
        "colab": {
          "base_uri": "https://localhost:8080/",
          "height": 293
        },
        "outputId": "5b759840-0aa4-4b30-afc1-d1d380aba5a5"
      },
      "execution_count": null,
      "outputs": [
        {
          "output_type": "error",
          "ename": "FileNotFoundError",
          "evalue": "ignored",
          "traceback": [
            "\u001b[0;31m---------------------------------------------------------------------------\u001b[0m",
            "\u001b[0;31mFileNotFoundError\u001b[0m                         Traceback (most recent call last)",
            "\u001b[0;32m<ipython-input-10-19faf85fa04b>\u001b[0m in \u001b[0;36m<cell line: 1>\u001b[0;34m()\u001b[0m\n\u001b[0;32m----> 1\u001b[0;31m \u001b[0mCrawler\u001b[0m\u001b[0;34m(\u001b[0m\u001b[0;34m\"https://en.wikipedia.org/wiki/Koiné_language\"\u001b[0m\u001b[0;34m,\u001b[0m\u001b[0;36m1\u001b[0m\u001b[0;34m)\u001b[0m\u001b[0;34m\u001b[0m\u001b[0;34m\u001b[0m\u001b[0m\n\u001b[0m",
            "\u001b[0;32m<ipython-input-9-46e2a6722645>\u001b[0m in \u001b[0;36mCrawler\u001b[0;34m(url, depth)\u001b[0m\n\u001b[1;32m      1\u001b[0m \u001b[0;32mdef\u001b[0m \u001b[0mCrawler\u001b[0m\u001b[0;34m(\u001b[0m\u001b[0murl\u001b[0m\u001b[0;34m,\u001b[0m \u001b[0mdepth\u001b[0m\u001b[0;34m=\u001b[0m\u001b[0;36m2\u001b[0m\u001b[0;34m)\u001b[0m\u001b[0;34m:\u001b[0m\u001b[0;34m\u001b[0m\u001b[0;34m\u001b[0m\u001b[0m\n\u001b[0;32m----> 2\u001b[0;31m     \u001b[0mlinks_yaml\u001b[0m \u001b[0;34m=\u001b[0m \u001b[0mopen\u001b[0m\u001b[0;34m(\u001b[0m\u001b[0;34m\"/Users/odyssey/Desktop/yaml_link\"\u001b[0m\u001b[0;34m,\u001b[0m\u001b[0;34m\"w\"\u001b[0m\u001b[0;34m)\u001b[0m\u001b[0;34m\u001b[0m\u001b[0;34m\u001b[0m\u001b[0m\n\u001b[0m\u001b[1;32m      3\u001b[0m     \u001b[0;32mdef\u001b[0m \u001b[0mCrawler_rec\u001b[0m\u001b[0;34m(\u001b[0m\u001b[0mlst_url\u001b[0m\u001b[0;34m,\u001b[0m\u001b[0mdepth_rec\u001b[0m\u001b[0;34m,\u001b[0m\u001b[0md\u001b[0m\u001b[0;34m)\u001b[0m\u001b[0;34m:\u001b[0m\u001b[0;34m\u001b[0m\u001b[0;34m\u001b[0m\u001b[0m\n\u001b[1;32m      4\u001b[0m         \u001b[0;32mif\u001b[0m \u001b[0mdepth_rec\u001b[0m\u001b[0;34m==\u001b[0m\u001b[0;36m0\u001b[0m\u001b[0;34m:\u001b[0m\u001b[0;34m\u001b[0m\u001b[0;34m\u001b[0m\u001b[0m\n\u001b[1;32m      5\u001b[0m             \u001b[0;32mreturn\u001b[0m\u001b[0;34m\u001b[0m\u001b[0;34m\u001b[0m\u001b[0m\n",
            "\u001b[0;31mFileNotFoundError\u001b[0m: [Errno 2] No such file or directory: '/Users/odyssey/Desktop/yaml_link'"
          ]
        }
      ]
    },
    {
      "cell_type": "code",
      "source": [],
      "metadata": {
        "id": "lFi8fH8-RA4j"
      },
      "execution_count": null,
      "outputs": []
    },
    {
      "cell_type": "code",
      "source": [],
      "metadata": {
        "id": "zkhz5mr-RA7O"
      },
      "execution_count": null,
      "outputs": []
    },
    {
      "cell_type": "code",
      "source": [],
      "metadata": {
        "id": "n0AS2T2vRA9s"
      },
      "execution_count": null,
      "outputs": []
    }
  ]
}